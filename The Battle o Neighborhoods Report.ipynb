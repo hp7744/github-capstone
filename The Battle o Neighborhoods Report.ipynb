{
    "nbformat_minor": 1, 
    "cells": [
        {
            "source": "# 1) Introduction/Business Problem", 
            "cell_type": "markdown", 
            "metadata": {
                "collapsed": true
            }
        }, 
        {
            "source": "In the old days, when business owner deciding weather to open up a store in a new locaiton, they used to ask people in the neighborhoods or try to investigate similar businesses that already existed in that location. However, this traditional venue to gather infomraiton are subject to misleading infomration due to seleciton bias etc. The problme can be perfectly solved as technology involves, now that data science comes in to play. We can simply let the businesses owner know if a neighborhood is ideal for their location decision using quantitative approach. Thus, increase their possibility of sucess and reduce the chances of failure due to lack of professional analysis. The Business Problem/recommendation I will be investigating is that when business owners planning to open up new locations, weather one location is better than others. The following analysis will be using three measures to evaluate between various lcoations, including income, population and the competitors. The busines owners will be particularly care about this problem and have the needs for integrated locaitonal anlaysis becuasing location decision is the most fundamental part of business planning in most small businesses like restaruants or small shps, and this is directly correlated with their sucess.", 
            "cell_type": "markdown", 
            "metadata": {}
        }, 
        {
            "source": "# 2) Downloading and Preparing Data", 
            "cell_type": "markdown", 
            "metadata": {}
        }, 
        {
            "source": "I will be providng the busines owners information regarding population, average income and the information also for their competitors. Meanwhile Toronto's census data will be used for the purpose of finding population. My idea is to use the foresquare API to strategically locate the competitors in a detailed manner. So a combination of census data about population, income and the adoption of foursquare for locating competitors will be executed.", 
            "cell_type": "markdown", 
            "metadata": {}
        }, 
        {
            "source": "# 3) Methodology", 
            "cell_type": "markdown", 
            "metadata": {}
        }, 
        {
            "source": "For this report I used a few different maps that could help a new investor to decide the best neighborhood to open a restaurant in Toronto based on it's income, population and available competitors. In order to do that I've used the 2016 Census information combined with choropleth maps to visually display the wealthier and more populational neighborhoods and Foursquare data to display the current restaurants in each region.", 
            "cell_type": "markdown", 
            "metadata": {}
        }, 
        {
            "source": "# 4) Results", 
            "cell_type": "markdown", 
            "metadata": {}
        }, 
        {
            "source": "Comparing the maps we can notice the majority of the restaurants grouped on main streets and on the south of the city, although some of the welthiest neighborhoods are up to the north. Also, the areas with a dense population don't reflect on the number of restaurants.", 
            "cell_type": "markdown", 
            "metadata": {}
        }, 
        {
            "source": "# 5) Discussion", 
            "cell_type": "markdown", 
            "metadata": {}
        }, 
        {
            "source": "When I first decided to create this study I was expecting to find clusters of restaurants in certain regions and the final result didn't meet that expectation.", 
            "cell_type": "markdown", 
            "metadata": {}
        }, 
        {
            "source": "# 6) Conclusion", 
            "cell_type": "markdown", 
            "metadata": {}
        }, 
        {
            "source": "This report may be helpful for someone planning on opening a restaurant in Toronto, by comparing the current offers and neighborhoods profiles, however it may not cover all variables such as access to public transportation or even the restaurants profiles, so it shall not be used as a single decidion making tool. The study takes into account the population, location choices of competitors as well as the average income. This will reflect the level of living standard in a neighboorhoods, level of competition. However, there are more factors that will affect my business problme that weather choosing one location over another will increase the possibility of success. For example, the product positioning may be very welcomed by some neighborhoods over other onces. In conclusion, further studies is recommended for the more accurate results.", 
            "cell_type": "markdown", 
            "metadata": {}
        }, 
        {
            "execution_count": null, 
            "cell_type": "code", 
            "metadata": {}, 
            "outputs": [], 
            "source": ""
        }
    ], 
    "metadata": {
        "kernelspec": {
            "display_name": "Python 3.6", 
            "name": "python3", 
            "language": "python"
        }, 
        "language_info": {
            "mimetype": "text/x-python", 
            "nbconvert_exporter": "python", 
            "version": "3.6.8", 
            "name": "python", 
            "file_extension": ".py", 
            "pygments_lexer": "ipython3", 
            "codemirror_mode": {
                "version": 3, 
                "name": "ipython"
            }
        }
    }, 
    "nbformat": 4
}