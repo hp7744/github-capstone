{
    "nbformat_minor": 1, 
    "cells": [
        {
            "source": "# 1) Introduction/Business Problem\u00b6\n\nClearly define a problem or an idea of your choice, where you would need to leverage the Foursquare location data to solve or execute. Remember that data science problems always target an audience and are meant to help a group of stakeholders solve a problem, so make sure that you explicitly describe your audience and why they would care about your problem:\n\n\nIn the old days, when business owner deciding weather to open up a store in a new locaiton, they used to ask people in the neighborhoods or try to investigate similar businesses that already existed in that location. However, this traditional venue to gather infomraiton are subject to misleading infomration due to seleciton bias etc. The problme can be perfectly solved as technology involves, now that data science comes in to play. We can simply let the businesses owner know if a neighborhood is ideal for their location decision using quantitative approach. Thus, increase their possibility of sucess and reduce the chances of failure due to lack of professional analysis. The Business Problem/recommendation I will be investigating is that when business owners planning to open up new locations, weather one location is better than others. The following analysis will be using three measures to evaluate between various lcoations, including income, population and the competitors. The busines owners will be particularly care about this problem and have the needs for integrated locaitonal anlaysis becuasing location decision is the most fundamental part of business planning in most small businesses like restaruants or small shps, and this is directly correlated with their sucess.\n", 
            "cell_type": "markdown", 
            "metadata": {
                "collapsed": true
            }
        }, 
        {
            "source": "# 2) Data\n\nDescribe the data that you will be using to solve the problem or execute your idea. Remember that you will need to use the Foursquare location data to solve the problem or execute your idea. You can absolutely use other datasets in combination with the Foursquare location data. So make sure that you provide adequate explanation and discussion, with examples, of the data that you will be using, even if it is only Foursquare location data:\n\nI will be providng the busines owners information regarding population, average income and the information also for their competitors. Meanwhile Toronto's census data will be used for the purpose of finding population. My idea is to use the foresquare API to strategically locate the competitors in a detailed manner. So a combination of census data about population, income and the adoption of foursquare for locating competitors will be executed.", 
            "cell_type": "markdown", 
            "metadata": {}
        }, 
        {
            "execution_count": null, 
            "cell_type": "code", 
            "metadata": {}, 
            "outputs": [], 
            "source": ""
        }, 
        {
            "execution_count": null, 
            "cell_type": "code", 
            "metadata": {}, 
            "outputs": [], 
            "source": ""
        }
    ], 
    "metadata": {
        "kernelspec": {
            "display_name": "Python 3.6", 
            "name": "python3", 
            "language": "python"
        }, 
        "language_info": {
            "mimetype": "text/x-python", 
            "nbconvert_exporter": "python", 
            "version": "3.6.8", 
            "name": "python", 
            "file_extension": ".py", 
            "pygments_lexer": "ipython3", 
            "codemirror_mode": {
                "version": 3, 
                "name": "ipython"
            }
        }
    }, 
    "nbformat": 4
}